{
  "nbformat": 4,
  "nbformat_minor": 0,
  "metadata": {
    "colab": {
      "provenance": []
    },
    "kernelspec": {
      "name": "python3",
      "display_name": "Python 3"
    },
    "language_info": {
      "name": "python"
    }
  },
  "cells": [
    {
      "cell_type": "markdown",
      "source": [
        "**Program 1**: Write a program to prompt the user for hours and rate per hour to compute gross pay. However, the employees who worked above 40 hours were given 1.5 times the hourly rate for individual hours"
      ],
      "metadata": {
        "id": "sjQ87rKztBjt"
      }
    },
    {
      "cell_type": "code",
      "execution_count": null,
      "metadata": {
        "colab": {
          "base_uri": "https://localhost:8080/"
        },
        "id": "5POeGfkZni78",
        "outputId": "4a5a6f47-9908-4324-be01-654a2a332f98"
      },
      "outputs": [
        {
          "output_type": "stream",
          "name": "stdout",
          "text": [
            "Enter hours: 45\n",
            "Enter rate per hour: 10\n",
            "Total:  475.0\n"
          ]
        }
      ],
      "source": [
        "hours = int(input(\"Enter hours: \")) #45\n",
        "rph = int(input(\"Enter rate per hour: \")) #10\n",
        "p = 40 * rph #400\n",
        "p1 = hours * rph\n",
        "if hours > 40:\n",
        "  payment = (hours - 40) * 1.5 * 10\n",
        "  gross_pay = payment + p\n",
        "  print(\"Total: \", gross_pay)\n",
        "else:\n",
        "  print(\"Total: \", p1)"
      ]
    },
    {
      "cell_type": "markdown",
      "source": [
        "**Program 2:**\n",
        "A school has the following rules for the grading system:\n",
        "\n",
        "\n",
        "*   a. Below 25 - F\n",
        "* b. 25 to 45 - E\n",
        "* c. 45 to 50 - D\n",
        "* d. 50 to 60 - C\n",
        "* e. 60 to 80 - B\n",
        "* f. Above 80 - A\n",
        "\n",
        "Ask the user to enter marks and print the corresponding grade\n",
        "\n"
      ],
      "metadata": {
        "id": "WBokqkr1tK-N"
      }
    },
    {
      "cell_type": "code",
      "source": [
        "marks = int(input(\"enter the marks: \"))\n",
        "\n",
        "if marks < 25:\n",
        "  print(\"F\")\n",
        "elif marks > 25 and marks <= 45:\n",
        "  print(\"E\")\n",
        "elif marks > 45 and marks <= 50:\n",
        "  print(\"D\")\n",
        "elif marks > 50 and marks <= 60:\n",
        "  print(\"C\")\n",
        "elif marks > 45 and marks <= 50:\n",
        "  print(\"B\")\n",
        "else:\n",
        "  print(\"A\")\n",
        "\n"
      ],
      "metadata": {
        "colab": {
          "base_uri": "https://localhost:8080/"
        },
        "id": "V2PmQsp4p7Wd",
        "outputId": "9a0de3ff-c167-41fb-a2ec-fbbab32e9174"
      },
      "execution_count": null,
      "outputs": [
        {
          "output_type": "stream",
          "name": "stdout",
          "text": [
            "enter the marks: 50\n",
            "D\n"
          ]
        }
      ]
    },
    {
      "cell_type": "markdown",
      "source": [
        "**Program 3:** A shop will give a discount of 10% if the cost of the purchased quantity is more than 1000. Ask the user for quantity Suppose, one unit will cost 100.\n",
        "Judge and print the total cost for the user.\n"
      ],
      "metadata": {
        "id": "YM4CmHYHxDqB"
      }
    },
    {
      "cell_type": "code",
      "source": [
        "unit_cost = 100\n",
        "quantity = int(input(\"Enter the quantity: \"))\n",
        "total_cost = quantity * unit_cost\n",
        "\n",
        "if total_cost > 1000:\n",
        "    total_cost = total_cost * (1 - 0.1)\n",
        "\n",
        "print(f\"The total cost is: {total_cost}\")\n"
      ],
      "metadata": {
        "colab": {
          "base_uri": "https://localhost:8080/"
        },
        "id": "a-Bvw6rNuX6l",
        "outputId": "14e556a2-259e-43d0-8e83-12a19c8334cd"
      },
      "execution_count": null,
      "outputs": [
        {
          "output_type": "stream",
          "name": "stdout",
          "text": [
            "Enter the quantity: 102\n",
            "The total cost is: 9180.0\n"
          ]
        }
      ]
    },
    {
      "cell_type": "markdown",
      "source": [
        "**program 4**\n",
        "Take two int values from the user and print the greatest among them"
      ],
      "metadata": {
        "id": "gz3O6PpnyjPI"
      }
    },
    {
      "cell_type": "code",
      "source": [
        "a = int(input(\"Enter a number: \"))\n",
        "b = int(input(\"Enter a number: \"))\n",
        "\n",
        "if a > b:\n",
        "  print(a)\n",
        "else:\n",
        "  print(b)"
      ],
      "metadata": {
        "colab": {
          "base_uri": "https://localhost:8080/"
        },
        "id": "-ERdDxWcxsfA",
        "outputId": "f74a2927-fab5-4684-91af-01e2731097dd"
      },
      "execution_count": null,
      "outputs": [
        {
          "output_type": "stream",
          "name": "stdout",
          "text": [
            "Enter a number: 10\n",
            "Enter a number: 2\n",
            "10\n"
          ]
        }
      ]
    },
    {
      "cell_type": "code",
      "source": [
        "salary = float(input(\"Enter your salary: \"))\n",
        "years = int(input(\"Enter your years of service: \"))\n",
        "bonus = 0\n",
        "if years > 5:\n",
        "    bonus = 0.05 * salary\n",
        "    total_salary = salary + bonus\n",
        "\n",
        "print(f\"The net bonus amount is: {bonus}\")\n",
        "print(f\"The net salary amount is: {total_salary}\")\n"
      ],
      "metadata": {
        "colab": {
          "base_uri": "https://localhost:8080/"
        },
        "id": "G8TRbNkky-hQ",
        "outputId": "06563e03-d6a2-4989-8d42-d92e5d095fd1"
      },
      "execution_count": null,
      "outputs": [
        {
          "output_type": "stream",
          "name": "stdout",
          "text": [
            "Enter your salary: 1000\n",
            "Enter your years of service: 6\n",
            "The net bonus amount is: 50.0\n",
            "The net salary amount is: 1050.0\n"
          ]
        }
      ]
    },
    {
      "cell_type": "markdown",
      "source": [
        "**Program** student will not be allowed to sit in an exam if his/her attendance is less than 75%. Take the following input from the user:\n",
        "Number of classes held\n",
        "The number of classes attended\n",
        "\n",
        "and print the percentage of classes attended. Is the student allowed to sit\n",
        "in an exam or not?"
      ],
      "metadata": {
        "id": "eE6TFyMO3_jH"
      }
    },
    {
      "cell_type": "code",
      "source": [
        "class_korse = int(input(\"koyta class korso?: \"))\n",
        "class_koyta = int(input(\"class koyta hoise?: \"))\n",
        "attendence = class_korse / class_koyta\n",
        "if attendence >= 0.75:\n",
        "  print(\"exam dite parbe\")\n",
        "else:\n",
        "  print(\"exam dite parbena\")\n",
        "\n",
        "print(\"tar percentage: \", attendence)"
      ],
      "metadata": {
        "colab": {
          "base_uri": "https://localhost:8080/"
        },
        "id": "HDEld4gA20or",
        "outputId": "af9ec73c-a4dc-4933-a8af-71255bba33ce"
      },
      "execution_count": null,
      "outputs": [
        {
          "output_type": "stream",
          "name": "stdout",
          "text": [
            "koyta class korso?: 4\n",
            "class koyta hoise?: 5\n",
            "exam dite parbe\n",
            "tar percentage:  0.8\n"
          ]
        }
      ]
    },
    {
      "cell_type": "code",
      "source": [
        "class_korse = int(input(\"Nuzhat, koyta class korso?: \"))\n",
        "class_koyta = int(input(\"class koyta hoise?: \"))\n",
        "medical = str(input(\"tomar medical issues ase?: \"))\n",
        "attendence = class_korse / class_koyta\n",
        "if attendence >= 0.75:\n",
        "  print(\"exam dite parbe\")\n",
        "else:\n",
        "  print(\"exam dite parbena\")\n",
        "  if medical == \"ha\":\n",
        "    print(\"somssha ase\")\n",
        "  elif medical == \"na\":\n",
        "    print(\"Somossha nai\")\n",
        "\n",
        "print(\"tar percentage: \", attendence)"
      ],
      "metadata": {
        "colab": {
          "base_uri": "https://localhost:8080/"
        },
        "id": "eyafYAio5quw",
        "outputId": "f54cceef-eb1b-46ce-ae3a-adf55087a903"
      },
      "execution_count": null,
      "outputs": [
        {
          "output_type": "stream",
          "name": "stdout",
          "text": [
            "Nuzhat, koyta class korso?: 4\n",
            "class koyta hoise?: 10\n",
            "tomar medical issues ase?: ha\n",
            "exam dite parbena\n",
            "somssha ase\n",
            "tar percentage:  0.4\n"
          ]
        }
      ]
    },
    {
      "cell_type": "markdown",
      "source": [
        "Sort three numbers in ascending and descending order using conditional\n",
        "statements.\n"
      ],
      "metadata": {
        "id": "3_HIK_Ac72Hd"
      }
    },
    {
      "cell_type": "code",
      "source": [
        "a = int(input())\n",
        "b = int(input())\n",
        "c = int(input())\n",
        "\n",
        "if a>b and b>c:\n",
        "  print(a, \">\", b , \">\", c)\n",
        "elif b>a and a>"
      ],
      "metadata": {
        "colab": {
          "base_uri": "https://localhost:8080/"
        },
        "id": "WKBpYMA045hH",
        "outputId": "ce582fb6-800e-4ae4-b0d6-93d2b754cd28"
      },
      "execution_count": null,
      "outputs": [
        {
          "name": "stdout",
          "output_type": "stream",
          "text": [
            "2\n",
            "3\n",
            "4\n"
          ]
        }
      ]
    },
    {
      "cell_type": "code",
      "source": [
        "4"
      ],
      "metadata": {
        "id": "87ZipvSc8gSp"
      },
      "execution_count": null,
      "outputs": []
    }
  ]
}