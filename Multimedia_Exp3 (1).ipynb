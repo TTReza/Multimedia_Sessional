{
  "nbformat": 4,
  "nbformat_minor": 0,
  "metadata": {
    "colab": {
      "provenance": []
    },
    "kernelspec": {
      "name": "python3",
      "display_name": "Python 3"
    },
    "language_info": {
      "name": "python"
    }
  },
  "cells": [
    {
      "cell_type": "markdown",
      "source": [
        "Problem 2: Write a program to prompt for a score between 0.0 and 1.0. If the score is out of range, print an error message."
      ],
      "metadata": {
        "id": "eQ4Q5lMqZbwg"
      }
    },
    {
      "cell_type": "code",
      "execution_count": null,
      "metadata": {
        "id": "SXZkuQGmI5gt",
        "colab": {
          "base_uri": "https://localhost:8080/"
        },
        "outputId": "4e64c8fd-6918-4071-a83f-8011e112b80d"
      },
      "outputs": [
        {
          "output_type": "stream",
          "name": "stdout",
          "text": [
            "Enter a number: 0.5\n",
            "F\n"
          ]
        }
      ],
      "source": [
        "num = float(input(\"Enter a number: \"))\n",
        "\n",
        "if num >= 0.9 and num <=1.0:\n",
        "  print(\"A\")\n",
        "elif num>=0.8 and num < 0.9:\n",
        "  print(\"B\")\n",
        "elif num >= 0.7 and num < 0.8:\n",
        "  print(\"C\")\n",
        "elif num >= 0.6 and num < 0.7:\n",
        "  print(\"D\")\n",
        "elif num < 0.6 and num >= 0.0:\n",
        "  print(\"F\")\n",
        "else:\n",
        "  print(\"Bad Score\")"
      ]
    },
    {
      "cell_type": "code",
      "source": [
        "num = float(input(\"Enter a number: \"))\n",
        "\n",
        "if num >= 0.9 and num <=1.0:\n",
        "  print(\"A\")\n",
        "elif num>=0.8 and num < 0.9:\n",
        "  print(\"B\")\n",
        "elif num >= 0.7 and num < 0.8:\n",
        "  print(\"C\")\n",
        "elif num >= 0.6 and num < 0.7:\n",
        "  print(\"D\")\n",
        "elif num < 0.6 and num >= 0.0:\n",
        "  print(\"F\")\n",
        "else:\n",
        "  print(\"Bad Score\")\n",
        "\n",
        "try:\n",
        "  if not type(num) is float:\n",
        "    print(\"Bad score\")\n",
        "except:\n",
        "  print(\"Good Score\")\n",
        "\n"
      ],
      "metadata": {
        "colab": {
          "base_uri": "https://localhost:8080/",
          "height": 228
        },
        "id": "PU-O0UrxUdll",
        "outputId": "1f8e22cb-102f-4c11-d4f7-cb1f8ea205af"
      },
      "execution_count": null,
      "outputs": [
        {
          "name": "stdout",
          "output_type": "stream",
          "text": [
            "Enter a number: tt\n"
          ]
        },
        {
          "output_type": "error",
          "ename": "ValueError",
          "evalue": "could not convert string to float: 'tt'",
          "traceback": [
            "\u001b[0;31m---------------------------------------------------------------------------\u001b[0m",
            "\u001b[0;31mValueError\u001b[0m                                Traceback (most recent call last)",
            "\u001b[0;32m<ipython-input-5-95a314899a76>\u001b[0m in \u001b[0;36m<cell line: 1>\u001b[0;34m()\u001b[0m\n\u001b[0;32m----> 1\u001b[0;31m \u001b[0mnum\u001b[0m \u001b[0;34m=\u001b[0m \u001b[0mfloat\u001b[0m\u001b[0;34m(\u001b[0m\u001b[0minput\u001b[0m\u001b[0;34m(\u001b[0m\u001b[0;34m\"Enter a number: \"\u001b[0m\u001b[0;34m)\u001b[0m\u001b[0;34m)\u001b[0m\u001b[0;34m\u001b[0m\u001b[0;34m\u001b[0m\u001b[0m\n\u001b[0m\u001b[1;32m      2\u001b[0m \u001b[0;34m\u001b[0m\u001b[0m\n\u001b[1;32m      3\u001b[0m \u001b[0;32mif\u001b[0m \u001b[0mnum\u001b[0m \u001b[0;34m>=\u001b[0m \u001b[0;36m0.9\u001b[0m \u001b[0;32mand\u001b[0m \u001b[0mnum\u001b[0m \u001b[0;34m<=\u001b[0m\u001b[0;36m1.0\u001b[0m\u001b[0;34m:\u001b[0m\u001b[0;34m\u001b[0m\u001b[0;34m\u001b[0m\u001b[0m\n\u001b[1;32m      4\u001b[0m   \u001b[0mprint\u001b[0m\u001b[0;34m(\u001b[0m\u001b[0;34m\"A\"\u001b[0m\u001b[0;34m)\u001b[0m\u001b[0;34m\u001b[0m\u001b[0;34m\u001b[0m\u001b[0m\n\u001b[1;32m      5\u001b[0m \u001b[0;32melif\u001b[0m \u001b[0mnum\u001b[0m\u001b[0;34m>=\u001b[0m\u001b[0;36m0.8\u001b[0m \u001b[0;32mand\u001b[0m \u001b[0mnum\u001b[0m \u001b[0;34m<\u001b[0m \u001b[0;36m0.9\u001b[0m\u001b[0;34m:\u001b[0m\u001b[0;34m\u001b[0m\u001b[0;34m\u001b[0m\u001b[0m\n",
            "\u001b[0;31mValueError\u001b[0m: could not convert string to float: 'tt'"
          ]
        }
      ]
    },
    {
      "cell_type": "code",
      "source": [
        "num = input(\"Enter number: \")\n",
        "try:\n",
        "  num = float(num)\n",
        "  if num < 0.0 and num > 1.0:\n",
        "    print(\"Bad Score\")\n",
        "  else:\n",
        "    if num >= 0.9 and num <=1.0:\n",
        "      print(\"A\")\n",
        "    elif num>=0.8 and num < 0.9:\n",
        "      print(\"B\")\n",
        "    elif num >= 0.7 and num < 0.8:\n",
        "      print(\"C\")\n",
        "    elif num >= 0.6 and num < 0.7:\n",
        "      print(\"D\")\n",
        "    elif num < 0.6 and num >= 0.0:\n",
        "      print(\"F\")\n",
        "    else:\n",
        "      print(\"Bad Score\")\n",
        "except:\n",
        "  if type(num) == str:\n",
        "    print(\"Bad Score\")"
      ],
      "metadata": {
        "colab": {
          "base_uri": "https://localhost:8080/"
        },
        "id": "GK7eTBP0XFHx",
        "outputId": "32275f86-c8c5-4c2f-c71c-d86be849e9ca"
      },
      "execution_count": 2,
      "outputs": [
        {
          "output_type": "stream",
          "name": "stdout",
          "text": [
            "Enter number: tt\n",
            "Bad Score\n"
          ]
        }
      ]
    },
    {
      "cell_type": "markdown",
      "source": [
        "Problem 3: Write a Python program to find those numbers which are divisible by 7 and multiple of 5, between 1500 and 2700 (both included)"
      ],
      "metadata": {
        "id": "ksyAKUvAZV4J"
      }
    },
    {
      "cell_type": "code",
      "source": [
        "for num in range(1500, 2700):\n",
        "  #num = int(input(\"Enter a number: \"))\n",
        "  if (num%7 == 0) and (num%5 == 0):\n",
        "    print(\"The numbers are: \", num)\n"
      ],
      "metadata": {
        "colab": {
          "base_uri": "https://localhost:8080/"
        },
        "id": "JLkNYAzLYhVf",
        "outputId": "6c891c7f-9c41-4a70-a63d-af5ec97fe889"
      },
      "execution_count": null,
      "outputs": [
        {
          "output_type": "stream",
          "name": "stdout",
          "text": [
            "The numbers are:  1505\n",
            "The numbers are:  1540\n",
            "The numbers are:  1575\n",
            "The numbers are:  1610\n",
            "The numbers are:  1645\n",
            "The numbers are:  1680\n",
            "The numbers are:  1715\n",
            "The numbers are:  1750\n",
            "The numbers are:  1785\n",
            "The numbers are:  1820\n",
            "The numbers are:  1855\n",
            "The numbers are:  1890\n",
            "The numbers are:  1925\n",
            "The numbers are:  1960\n",
            "The numbers are:  1995\n",
            "The numbers are:  2030\n",
            "The numbers are:  2065\n",
            "The numbers are:  2100\n",
            "The numbers are:  2135\n",
            "The numbers are:  2170\n",
            "The numbers are:  2205\n",
            "The numbers are:  2240\n",
            "The numbers are:  2275\n",
            "The numbers are:  2310\n",
            "The numbers are:  2345\n",
            "The numbers are:  2380\n",
            "The numbers are:  2415\n",
            "The numbers are:  2450\n",
            "The numbers are:  2485\n",
            "The numbers are:  2520\n",
            "The numbers are:  2555\n",
            "The numbers are:  2590\n",
            "The numbers are:  2625\n",
            "The numbers are:  2660\n",
            "The numbers are:  2695\n"
          ]
        }
      ]
    },
    {
      "cell_type": "markdown",
      "source": [
        "Problem 4: Write a Python program that prints all the numbers from 0 to 6 except 3 and 6."
      ],
      "metadata": {
        "id": "K_7TVkE1beiC"
      }
    },
    {
      "cell_type": "code",
      "source": [
        "for val in \"string\":\n",
        "  if val == \"i\":\n",
        "    break\n",
        "  print(val)\n",
        "print(\"The end\")"
      ],
      "metadata": {
        "colab": {
          "base_uri": "https://localhost:8080/"
        },
        "id": "SBrPIN0FbTjB",
        "outputId": "2963b4f5-e9b5-4c92-fe0f-da7a4fc2d97c"
      },
      "execution_count": null,
      "outputs": [
        {
          "output_type": "stream",
          "name": "stdout",
          "text": [
            "s\n",
            "t\n",
            "r\n",
            "The end\n"
          ]
        }
      ]
    },
    {
      "cell_type": "code",
      "source": [
        "for num in range(0,6):\n",
        "  if num == 3 or num == 6:\n",
        "    continue\n",
        "  print(num)\n"
      ],
      "metadata": {
        "colab": {
          "base_uri": "https://localhost:8080/"
        },
        "id": "Dv2VDyF3b8yp",
        "outputId": "58f902ff-e9c6-4afd-a984-370d72d4727a"
      },
      "execution_count": null,
      "outputs": [
        {
          "output_type": "stream",
          "name": "stdout",
          "text": [
            "0\n",
            "1\n",
            "2\n",
            "4\n",
            "5\n"
          ]
        }
      ]
    },
    {
      "cell_type": "markdown",
      "source": [
        "Problem 7: Write a program to accept a number from a user and calculate the sum of all numbers from 1 to a given number"
      ],
      "metadata": {
        "id": "vqGg7ZDkdOLy"
      }
    },
    {
      "cell_type": "code",
      "source": [
        "num = int(input(\"Enter a number: \"))\n",
        "sum = 0\n",
        "for n in range(1, num+1):\n",
        "  sum = sum + n\n",
        "print(sum)"
      ],
      "metadata": {
        "colab": {
          "base_uri": "https://localhost:8080/"
        },
        "id": "cS5-a9khcNXQ",
        "outputId": "6936310c-0ab4-443f-c1ea-bd0dcdeed9ce"
      },
      "execution_count": null,
      "outputs": [
        {
          "output_type": "stream",
          "name": "stdout",
          "text": [
            "Enter a number: 4\n",
            "10\n"
          ]
        }
      ]
    },
    {
      "cell_type": "markdown",
      "source": [
        "Problem 1:\n",
        "Write a program that repeatedly reads numbers until the user enters “done”. Once “done” is entered, print out the total, count, and average of the numbers. If the user enters anything other than a number, detect their mistake using try and except and print an error message and skip to the next number.\n",
        "\n",
        "Sample Input-Output:\n",
        "- Enter a number: 4\n",
        "- Enter a number: 5\n",
        "- Enter a number: bad data\n",
        "- Invalid input\n",
        "- Enter a number: 7\n",
        "- Enter a number: done\n",
        "- 16 3 5.333333333333333"
      ],
      "metadata": {
        "id": "5RYdQLCld5FY"
      }
    },
    {
      "cell_type": "code",
      "source": [
        "while True:\n",
        "  num = input(\"Enter a number: \")\n",
        "\n",
        "  if num == 'done':\n",
        "    break\n",
        "  try:\n",
        "    number = int(num)\n",
        "  except:\n",
        "    print(\"invalid input\")"
      ],
      "metadata": {
        "colab": {
          "base_uri": "https://localhost:8080/"
        },
        "id": "Kn14_2OfdkGf",
        "outputId": "2977a314-28f9-4c81-ebc9-db9bdae53d90"
      },
      "execution_count": null,
      "outputs": [
        {
          "name": "stdout",
          "output_type": "stream",
          "text": [
            "Enter a number: \n",
            "invalid input\n",
            "Enter a number: 5\n",
            "Enter a number: 5\n",
            "Enter a number: 11\n",
            "Enter a number: done\n"
          ]
        }
      ]
    },
    {
      "cell_type": "code",
      "source": [
        "flag = True\n",
        "total = 0\n",
        "count = 0\n",
        "while flag == True:\n",
        "  num = input(\"Enter a number: \")\n",
        "\n",
        "  if num == 'done':\n",
        "\n",
        "    break\n",
        "  try:\n",
        "    num = int(num)\n",
        "    total = total + num\n",
        "    count = count + 1\n",
        "\n",
        "  except:\n",
        "    print(\"invalid input\")\n",
        "\n",
        "if count > 0:\n",
        "  avg = total/count\n",
        "  print(\"total: \", total)\n",
        "  print(\"count: \", count)\n",
        "  print(\"average: \", avg)\n"
      ],
      "metadata": {
        "colab": {
          "base_uri": "https://localhost:8080/"
        },
        "id": "sFUFy0URf0yJ",
        "outputId": "c2b210c6-011c-4465-b7f9-ab892c612902"
      },
      "execution_count": null,
      "outputs": [
        {
          "output_type": "stream",
          "name": "stdout",
          "text": [
            "Enter a number: 4\n",
            "Enter a number: 5\n",
            "Enter a number: bad data\n",
            "invalid input\n",
            "Enter a number: 7\n",
            "Enter a number: done\n",
            "total:  16\n",
            "count:  3\n",
            "average:  5.333333333333333\n"
          ]
        }
      ]
    },
    {
      "cell_type": "markdown",
      "source": [
        "Problem 5: Write a Python program to get the Fibonacci series between 0 to 50"
      ],
      "metadata": {
        "id": "omkaWSH3j354"
      }
    },
    {
      "cell_type": "code",
      "source": [
        "a = 0\n",
        "b = 1\n",
        "\n",
        "while a < 50:\n",
        "  a, b = b, a+b\n",
        "  print(a)"
      ],
      "metadata": {
        "colab": {
          "base_uri": "https://localhost:8080/"
        },
        "id": "qrSnO7gOj3dX",
        "outputId": "a843d6d3-76fa-43a4-f3ce-32603d9bd948"
      },
      "execution_count": null,
      "outputs": [
        {
          "output_type": "stream",
          "name": "stdout",
          "text": [
            "1\n",
            "1\n",
            "2\n",
            "3\n",
            "5\n",
            "8\n",
            "13\n",
            "21\n",
            "34\n",
            "55\n"
          ]
        }
      ]
    },
    {
      "cell_type": "markdown",
      "source": [
        "Problem 6: Write a program to display all prime numbers within a range."
      ],
      "metadata": {
        "id": "qE9CVAB_m2UQ"
      }
    },
    {
      "cell_type": "code",
      "source": [
        "def is_prime(num):\n",
        "  if num <= 1:\n",
        "    return False\n",
        "  for i in range(2, int(num**0.5) + 1):\n",
        "    if num % i == 0:\n",
        "      return False\n",
        "  return True\n",
        "\n",
        "lower = int(input(\"lower limit: \"))\n",
        "upper = int(input(\"upper limit: \"))\n",
        "\n",
        "for num in range(lower, upper + 1):\n",
        "  if is_prime(num):\n",
        "    print(num)\n"
      ],
      "metadata": {
        "id": "fZRn-fNfmMHk",
        "colab": {
          "base_uri": "https://localhost:8080/"
        },
        "outputId": "f100f8ce-5ba4-4b15-e980-eccff2fac993"
      },
      "execution_count": 4,
      "outputs": [
        {
          "output_type": "stream",
          "name": "stdout",
          "text": [
            "lower limit: 2\n",
            "upper limit: 20\n",
            "2\n",
            "3\n",
            "5\n",
            "7\n",
            "11\n",
            "13\n",
            "17\n",
            "19\n"
          ]
        }
      ]
    },
    {
      "cell_type": "code",
      "source": [],
      "metadata": {
        "id": "-A_H3mvTvaU1"
      },
      "execution_count": null,
      "outputs": []
    }
  ]
}