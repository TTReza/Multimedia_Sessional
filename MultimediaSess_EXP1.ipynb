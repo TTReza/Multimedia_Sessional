{
  "nbformat": 4,
  "nbformat_minor": 0,
  "metadata": {
    "colab": {
      "provenance": []
    },
    "kernelspec": {
      "name": "python3",
      "display_name": "Python 3"
    },
    "language_info": {
      "name": "python"
    }
  },
  "cells": [
    {
      "cell_type": "code",
      "execution_count": 1,
      "metadata": {
        "colab": {
          "base_uri": "https://localhost:8080/"
        },
        "id": "9SmJz-gSRfTX",
        "outputId": "3756cc5a-491c-4474-ec9b-7cb0d9b9646c"
      },
      "outputs": [
        {
          "output_type": "stream",
          "name": "stdout",
          "text": [
            "Enter your name: Tanzeem\n",
            "You are welcome Tanzeem\n"
          ]
        }
      ],
      "source": [
        "name = input(\"Enter your name: \")\n",
        "print(\"You are welcome \" + name)"
      ]
    },
    {
      "cell_type": "code",
      "source": [
        "hour = int(input(\"Enter how many hours: \"))\n",
        "rate = float(input(\"Enter Rate: \"))\n",
        "gross_pay = hour*rate\n",
        "print(\"Total pay: \", gross_pay)"
      ],
      "metadata": {
        "colab": {
          "base_uri": "https://localhost:8080/"
        },
        "id": "hQJMiY9zVaYG",
        "outputId": "04b0fd9a-c0e9-424a-f089-3aaa9c1f8c71"
      },
      "execution_count": 2,
      "outputs": [
        {
          "output_type": "stream",
          "name": "stdout",
          "text": [
            "Enter how many hours: 40\n",
            "Enter Rate: 3\n",
            "Total pay:  120.0\n"
          ]
        }
      ]
    },
    {
      "cell_type": "code",
      "source": [
        "Cel = float(input(\"Enter temp in Celcius: \"))\n",
        "Far = ((9*Cel)/5) + 32\n",
        "print(\"Converted Temp: \", Far)"
      ],
      "metadata": {
        "colab": {
          "base_uri": "https://localhost:8080/"
        },
        "id": "eu8K2ozjWFk5",
        "outputId": "fdc49917-44d5-4fc3-e543-773ae475f625"
      },
      "execution_count": 4,
      "outputs": [
        {
          "output_type": "stream",
          "name": "stdout",
          "text": [
            "Enter temp in Celcius: 33\n",
            "Converted Temp:  91.4\n"
          ]
        }
      ]
    },
    {
      "cell_type": "code",
      "source": [
        "import math\n",
        "\n",
        "height = float(input(\"Enter the height: \"))\n",
        "width = float(input(\"Enter the width: \"))\n",
        "area = height * width\n",
        "peri = 2 * (height + width)\n",
        "diag = math.sqrt(width**2 + height**2)\n",
        "print(f\"area: {area}\")\n",
        "print(f\"diagonal: {diag}\")\n",
        "print(f\"perimeter: {peri}\")\n"
      ],
      "metadata": {
        "colab": {
          "base_uri": "https://localhost:8080/"
        },
        "id": "Er3mBxGhWs7Z",
        "outputId": "457536fd-3432-4893-d834-5bd44f74efaf"
      },
      "execution_count": 5,
      "outputs": [
        {
          "output_type": "stream",
          "name": "stdout",
          "text": [
            "Enter the height: 4\n",
            "Enter the width: 3\n",
            "area: 12.0\n",
            "diagonal: 5.0\n",
            "perimeter: 14.0\n"
          ]
        }
      ]
    },
    {
      "cell_type": "code",
      "source": [
        "pi = 3.1416\n",
        "h = float(input(\"Enter Height: \"))\n",
        "r = float(input(\"Enter radius: \"))\n",
        "vol = pi * r**2 * h\n",
        "surfacearea = 2 * pi * r * h  + 2 * pi * r**2\n",
        "print(f\"Volume: {vol}\")\n",
        "print(f\"Surface Area: {surfacearea}\")"
      ],
      "metadata": {
        "colab": {
          "base_uri": "https://localhost:8080/"
        },
        "id": "5NQ47_FQXkYu",
        "outputId": "0029cda2-5f4e-4b7c-ef8e-9ff4c81f5cab"
      },
      "execution_count": 6,
      "outputs": [
        {
          "output_type": "stream",
          "name": "stdout",
          "text": [
            "Enter Height: 9\n",
            "Enter radius: 5\n",
            "Volume: 706.8599999999999\n",
            "Surface Area: 439.824\n"
          ]
        }
      ]
    },
    {
      "cell_type": "code",
      "source": [
        "pi = 3.1416\n",
        "r = float(input(\"Enter Radius: \"))\n",
        "a = float(input(\"Enter angle in degree: \"))\n",
        "\n",
        "arc = 2 * pi * r * (a / 360)\n",
        "sector = pi * r**2 * (a / 360)\n",
        "\n",
        "print(f\"Arc Length: {arc}\")\n",
        "print(f\"Setor Area: {sector}\")\n"
      ],
      "metadata": {
        "colab": {
          "base_uri": "https://localhost:8080/"
        },
        "id": "E_3ejQIuYX3E",
        "outputId": "0c31c66c-5b6e-4d8f-d586-ad0f7888b991"
      },
      "execution_count": 9,
      "outputs": [
        {
          "output_type": "stream",
          "name": "stdout",
          "text": [
            "Enter Radius: 4\n",
            "Enter angle in degree: 30\n",
            "Arc Length: 2.0944\n",
            "Setor Area: 4.1888\n"
          ]
        }
      ]
    },
    {
      "cell_type": "code",
      "source": [
        "3"
      ],
      "metadata": {
        "id": "BiIWN_ezZIj6"
      },
      "execution_count": null,
      "outputs": []
    }
  ]
}